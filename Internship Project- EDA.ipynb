{
 "cells": [
  {
   "cell_type": "markdown",
   "id": "a858b0a3",
   "metadata": {},
   "source": [
    "# Project Summary\n",
    "\n",
    "This dataset consists of tv shows and movies available on Netflix as of 2019. The dataset is collected from Flixable which is a third-party Netflix search engine.\n",
    "\n",
    "In 2018, they released an interesting report which shows that the number of TV shows on Netflix has nearly tripled since 2010. The streaming service’s number of movies has decreased by more than 2,000 titles since 2010, while its number of TV shows has nearly tripled. This tabular dataset consists of listings of all the movies and tv shows available on Netﬂix, along with details such as - cast, directors, ratings, release year, duration, etc. It will be interesting to explore what all other insights can be obtained from the same dataset.\n",
    "\n",
    "Initially i started with basic understanding of the dataset: datatypes of attributes, missing or null values, dropping unnecessary columns or rows, statistical observation of datapoints. Various EDA techniques were applied to analyse the data and derive important insights which will help Netflix to increase it's business.\n",
    "\n"
   ]
  },
  {
   "cell_type": "markdown",
   "id": "1f26312e",
   "metadata": {},
   "source": [
    "# Github link\n"
   ]
  },
  {
   "cell_type": "markdown",
   "id": "91dfe106",
   "metadata": {},
   "source": [
    "# Problem Statement\n",
    "\n",
    "In this project you are required to do:\n",
    "\n",
    "Exploratory Data Analysis.\n",
    "\n",
    "Understanding what type content is available in different countries.\n",
    "\n",
    "Is Netflix has increasingly been focusing on TV shows rather than movies in recent years.\n",
    "\n",
    "Business objective:\n",
    "\n",
    "Analyze the data and generate insights that could help Netﬂix in deciding which type of shows/movies to produce and how they can grow the business in different countries"
   ]
  },
  {
   "cell_type": "code",
   "execution_count": 1,
   "id": "b32434f5",
   "metadata": {},
   "outputs": [],
   "source": [
    "# importing libraries\n",
    "\n",
    "import pandas as pd\n",
    "import numpy as np\n",
    "import seaborn as sns\n",
    "\n",
    "import matplotlib.pyplot as plt\n",
    "import matplotlib.mlab as mlab\n",
    "import matplotlib\n",
    "plt.style.use('ggplot')\n",
    "from matplotlib.pyplot import figure\n",
    "\n",
    "%matplotlib inline\n",
    "matplotlib.rcParams['figure.figsize'] = (12,8)"
   ]
  },
  {
   "cell_type": "code",
   "execution_count": 2,
   "id": "4610b816",
   "metadata": {},
   "outputs": [],
   "source": [
    "# load the dataset\n",
    "\n",
    "df= pd.read_csv(r'C:\\Users\\hp\\Downloads\\Labmentix internship\\NETFLIX MOVIES AND TV SHOWS CLUSTERING.csv')"
   ]
  },
  {
   "cell_type": "code",
   "execution_count": 3,
   "id": "f8b9005f",
   "metadata": {},
   "outputs": [
    {
     "data": {
      "text/html": [
       "<div>\n",
       "<style scoped>\n",
       "    .dataframe tbody tr th:only-of-type {\n",
       "        vertical-align: middle;\n",
       "    }\n",
       "\n",
       "    .dataframe tbody tr th {\n",
       "        vertical-align: top;\n",
       "    }\n",
       "\n",
       "    .dataframe thead th {\n",
       "        text-align: right;\n",
       "    }\n",
       "</style>\n",
       "<table border=\"1\" class=\"dataframe\">\n",
       "  <thead>\n",
       "    <tr style=\"text-align: right;\">\n",
       "      <th></th>\n",
       "      <th>show_id</th>\n",
       "      <th>type</th>\n",
       "      <th>title</th>\n",
       "      <th>director</th>\n",
       "      <th>cast</th>\n",
       "      <th>country</th>\n",
       "      <th>date_added</th>\n",
       "      <th>release_year</th>\n",
       "      <th>rating</th>\n",
       "      <th>duration</th>\n",
       "      <th>listed_in</th>\n",
       "      <th>description</th>\n",
       "    </tr>\n",
       "  </thead>\n",
       "  <tbody>\n",
       "    <tr>\n",
       "      <th>0</th>\n",
       "      <td>s1</td>\n",
       "      <td>TV Show</td>\n",
       "      <td>3%</td>\n",
       "      <td>NaN</td>\n",
       "      <td>João Miguel, Bianca Comparato, Michel Gomes, R...</td>\n",
       "      <td>Brazil</td>\n",
       "      <td>August 14, 2020</td>\n",
       "      <td>2020</td>\n",
       "      <td>TV-MA</td>\n",
       "      <td>4 Seasons</td>\n",
       "      <td>International TV Shows, TV Dramas, TV Sci-Fi &amp;...</td>\n",
       "      <td>In a future where the elite inhabit an island ...</td>\n",
       "    </tr>\n",
       "    <tr>\n",
       "      <th>1</th>\n",
       "      <td>s2</td>\n",
       "      <td>Movie</td>\n",
       "      <td>7:19</td>\n",
       "      <td>Jorge Michel Grau</td>\n",
       "      <td>Demián Bichir, Héctor Bonilla, Oscar Serrano, ...</td>\n",
       "      <td>Mexico</td>\n",
       "      <td>December 23, 2016</td>\n",
       "      <td>2016</td>\n",
       "      <td>TV-MA</td>\n",
       "      <td>93 min</td>\n",
       "      <td>Dramas, International Movies</td>\n",
       "      <td>After a devastating earthquake hits Mexico Cit...</td>\n",
       "    </tr>\n",
       "    <tr>\n",
       "      <th>2</th>\n",
       "      <td>s3</td>\n",
       "      <td>Movie</td>\n",
       "      <td>23:59</td>\n",
       "      <td>Gilbert Chan</td>\n",
       "      <td>Tedd Chan, Stella Chung, Henley Hii, Lawrence ...</td>\n",
       "      <td>Singapore</td>\n",
       "      <td>December 20, 2018</td>\n",
       "      <td>2011</td>\n",
       "      <td>R</td>\n",
       "      <td>78 min</td>\n",
       "      <td>Horror Movies, International Movies</td>\n",
       "      <td>When an army recruit is found dead, his fellow...</td>\n",
       "    </tr>\n",
       "    <tr>\n",
       "      <th>3</th>\n",
       "      <td>s4</td>\n",
       "      <td>Movie</td>\n",
       "      <td>9</td>\n",
       "      <td>Shane Acker</td>\n",
       "      <td>Elijah Wood, John C. Reilly, Jennifer Connelly...</td>\n",
       "      <td>United States</td>\n",
       "      <td>November 16, 2017</td>\n",
       "      <td>2009</td>\n",
       "      <td>PG-13</td>\n",
       "      <td>80 min</td>\n",
       "      <td>Action &amp; Adventure, Independent Movies, Sci-Fi...</td>\n",
       "      <td>In a postapocalyptic world, rag-doll robots hi...</td>\n",
       "    </tr>\n",
       "    <tr>\n",
       "      <th>4</th>\n",
       "      <td>s5</td>\n",
       "      <td>Movie</td>\n",
       "      <td>21</td>\n",
       "      <td>Robert Luketic</td>\n",
       "      <td>Jim Sturgess, Kevin Spacey, Kate Bosworth, Aar...</td>\n",
       "      <td>United States</td>\n",
       "      <td>January 1, 2020</td>\n",
       "      <td>2008</td>\n",
       "      <td>PG-13</td>\n",
       "      <td>123 min</td>\n",
       "      <td>Dramas</td>\n",
       "      <td>A brilliant group of students become card-coun...</td>\n",
       "    </tr>\n",
       "    <tr>\n",
       "      <th>5</th>\n",
       "      <td>s6</td>\n",
       "      <td>TV Show</td>\n",
       "      <td>46</td>\n",
       "      <td>Serdar Akar</td>\n",
       "      <td>Erdal Beşikçioğlu, Yasemin Allen, Melis Birkan...</td>\n",
       "      <td>Turkey</td>\n",
       "      <td>July 1, 2017</td>\n",
       "      <td>2016</td>\n",
       "      <td>TV-MA</td>\n",
       "      <td>1 Season</td>\n",
       "      <td>International TV Shows, TV Dramas, TV Mysteries</td>\n",
       "      <td>A genetics professor experiments with a treatm...</td>\n",
       "    </tr>\n",
       "    <tr>\n",
       "      <th>6</th>\n",
       "      <td>s7</td>\n",
       "      <td>Movie</td>\n",
       "      <td>122</td>\n",
       "      <td>Yasir Al Yasiri</td>\n",
       "      <td>Amina Khalil, Ahmed Dawood, Tarek Lotfy, Ahmed...</td>\n",
       "      <td>Egypt</td>\n",
       "      <td>June 1, 2020</td>\n",
       "      <td>2019</td>\n",
       "      <td>TV-MA</td>\n",
       "      <td>95 min</td>\n",
       "      <td>Horror Movies, International Movies</td>\n",
       "      <td>After an awful accident, a couple admitted to ...</td>\n",
       "    </tr>\n",
       "    <tr>\n",
       "      <th>7</th>\n",
       "      <td>s8</td>\n",
       "      <td>Movie</td>\n",
       "      <td>187</td>\n",
       "      <td>Kevin Reynolds</td>\n",
       "      <td>Samuel L. Jackson, John Heard, Kelly Rowan, Cl...</td>\n",
       "      <td>United States</td>\n",
       "      <td>November 1, 2019</td>\n",
       "      <td>1997</td>\n",
       "      <td>R</td>\n",
       "      <td>119 min</td>\n",
       "      <td>Dramas</td>\n",
       "      <td>After one of his high school students attacks ...</td>\n",
       "    </tr>\n",
       "    <tr>\n",
       "      <th>8</th>\n",
       "      <td>s9</td>\n",
       "      <td>Movie</td>\n",
       "      <td>706</td>\n",
       "      <td>Shravan Kumar</td>\n",
       "      <td>Divya Dutta, Atul Kulkarni, Mohan Agashe, Anup...</td>\n",
       "      <td>India</td>\n",
       "      <td>April 1, 2019</td>\n",
       "      <td>2019</td>\n",
       "      <td>TV-14</td>\n",
       "      <td>118 min</td>\n",
       "      <td>Horror Movies, International Movies</td>\n",
       "      <td>When a doctor goes missing, his psychiatrist w...</td>\n",
       "    </tr>\n",
       "    <tr>\n",
       "      <th>9</th>\n",
       "      <td>s10</td>\n",
       "      <td>Movie</td>\n",
       "      <td>1920</td>\n",
       "      <td>Vikram Bhatt</td>\n",
       "      <td>Rajneesh Duggal, Adah Sharma, Indraneil Sengup...</td>\n",
       "      <td>India</td>\n",
       "      <td>December 15, 2017</td>\n",
       "      <td>2008</td>\n",
       "      <td>TV-MA</td>\n",
       "      <td>143 min</td>\n",
       "      <td>Horror Movies, International Movies, Thrillers</td>\n",
       "      <td>An architect and his wife move into a castle t...</td>\n",
       "    </tr>\n",
       "  </tbody>\n",
       "</table>\n",
       "</div>"
      ],
      "text/plain": [
       "  show_id     type  title           director  \\\n",
       "0      s1  TV Show     3%                NaN   \n",
       "1      s2    Movie   7:19  Jorge Michel Grau   \n",
       "2      s3    Movie  23:59       Gilbert Chan   \n",
       "3      s4    Movie      9        Shane Acker   \n",
       "4      s5    Movie     21     Robert Luketic   \n",
       "5      s6  TV Show     46        Serdar Akar   \n",
       "6      s7    Movie    122    Yasir Al Yasiri   \n",
       "7      s8    Movie    187     Kevin Reynolds   \n",
       "8      s9    Movie    706      Shravan Kumar   \n",
       "9     s10    Movie   1920       Vikram Bhatt   \n",
       "\n",
       "                                                cast        country  \\\n",
       "0  João Miguel, Bianca Comparato, Michel Gomes, R...         Brazil   \n",
       "1  Demián Bichir, Héctor Bonilla, Oscar Serrano, ...         Mexico   \n",
       "2  Tedd Chan, Stella Chung, Henley Hii, Lawrence ...      Singapore   \n",
       "3  Elijah Wood, John C. Reilly, Jennifer Connelly...  United States   \n",
       "4  Jim Sturgess, Kevin Spacey, Kate Bosworth, Aar...  United States   \n",
       "5  Erdal Beşikçioğlu, Yasemin Allen, Melis Birkan...         Turkey   \n",
       "6  Amina Khalil, Ahmed Dawood, Tarek Lotfy, Ahmed...          Egypt   \n",
       "7  Samuel L. Jackson, John Heard, Kelly Rowan, Cl...  United States   \n",
       "8  Divya Dutta, Atul Kulkarni, Mohan Agashe, Anup...          India   \n",
       "9  Rajneesh Duggal, Adah Sharma, Indraneil Sengup...          India   \n",
       "\n",
       "          date_added  release_year rating   duration  \\\n",
       "0    August 14, 2020          2020  TV-MA  4 Seasons   \n",
       "1  December 23, 2016          2016  TV-MA     93 min   \n",
       "2  December 20, 2018          2011      R     78 min   \n",
       "3  November 16, 2017          2009  PG-13     80 min   \n",
       "4    January 1, 2020          2008  PG-13    123 min   \n",
       "5       July 1, 2017          2016  TV-MA   1 Season   \n",
       "6       June 1, 2020          2019  TV-MA     95 min   \n",
       "7   November 1, 2019          1997      R    119 min   \n",
       "8      April 1, 2019          2019  TV-14    118 min   \n",
       "9  December 15, 2017          2008  TV-MA    143 min   \n",
       "\n",
       "                                           listed_in  \\\n",
       "0  International TV Shows, TV Dramas, TV Sci-Fi &...   \n",
       "1                       Dramas, International Movies   \n",
       "2                Horror Movies, International Movies   \n",
       "3  Action & Adventure, Independent Movies, Sci-Fi...   \n",
       "4                                             Dramas   \n",
       "5    International TV Shows, TV Dramas, TV Mysteries   \n",
       "6                Horror Movies, International Movies   \n",
       "7                                             Dramas   \n",
       "8                Horror Movies, International Movies   \n",
       "9     Horror Movies, International Movies, Thrillers   \n",
       "\n",
       "                                         description  \n",
       "0  In a future where the elite inhabit an island ...  \n",
       "1  After a devastating earthquake hits Mexico Cit...  \n",
       "2  When an army recruit is found dead, his fellow...  \n",
       "3  In a postapocalyptic world, rag-doll robots hi...  \n",
       "4  A brilliant group of students become card-coun...  \n",
       "5  A genetics professor experiments with a treatm...  \n",
       "6  After an awful accident, a couple admitted to ...  \n",
       "7  After one of his high school students attacks ...  \n",
       "8  When a doctor goes missing, his psychiatrist w...  \n",
       "9  An architect and his wife move into a castle t...  "
      ]
     },
     "execution_count": 3,
     "metadata": {},
     "output_type": "execute_result"
    }
   ],
   "source": [
    "# first view of the data\n",
    "\n",
    "df.head(10)"
   ]
  },
  {
   "cell_type": "code",
   "execution_count": 4,
   "id": "3a13263f",
   "metadata": {},
   "outputs": [
    {
     "data": {
      "text/plain": [
       "(7787, 12)"
      ]
     },
     "execution_count": 4,
     "metadata": {},
     "output_type": "execute_result"
    }
   ],
   "source": [
    "# count of rows and columns\n",
    "\n",
    "df.shape"
   ]
  },
  {
   "cell_type": "code",
   "execution_count": 5,
   "id": "a0189490",
   "metadata": {},
   "outputs": [
    {
     "name": "stdout",
     "output_type": "stream",
     "text": [
      "<class 'pandas.core.frame.DataFrame'>\n",
      "RangeIndex: 7787 entries, 0 to 7786\n",
      "Data columns (total 12 columns):\n",
      " #   Column        Non-Null Count  Dtype \n",
      "---  ------        --------------  ----- \n",
      " 0   show_id       7787 non-null   object\n",
      " 1   type          7787 non-null   object\n",
      " 2   title         7787 non-null   object\n",
      " 3   director      5398 non-null   object\n",
      " 4   cast          7069 non-null   object\n",
      " 5   country       7280 non-null   object\n",
      " 6   date_added    7777 non-null   object\n",
      " 7   release_year  7787 non-null   int64 \n",
      " 8   rating        7780 non-null   object\n",
      " 9   duration      7787 non-null   object\n",
      " 10  listed_in     7787 non-null   object\n",
      " 11  description   7787 non-null   object\n",
      "dtypes: int64(1), object(11)\n",
      "memory usage: 730.2+ KB\n"
     ]
    }
   ],
   "source": [
    "# dataset info\n",
    "\n",
    "df.info()"
   ]
  },
  {
   "cell_type": "code",
   "execution_count": 14,
   "id": "da918c45",
   "metadata": {},
   "outputs": [
    {
     "data": {
      "text/plain": [
       "show_id         object\n",
       "type            object\n",
       "title           object\n",
       "director        object\n",
       "cast            object\n",
       "country         object\n",
       "date_added      object\n",
       "release_year     int64\n",
       "rating          object\n",
       "duration        object\n",
       "listed_in       object\n",
       "description     object\n",
       "dtype: object"
      ]
     },
     "execution_count": 14,
     "metadata": {},
     "output_type": "execute_result"
    }
   ],
   "source": [
    "# datatype info\n",
    "\n",
    "df.dtypes"
   ]
  },
  {
   "cell_type": "markdown",
   "id": "0edb5cec",
   "metadata": {},
   "source": [
    "show_id, type, title, director, cast, country, date_added, rating, duration, listed_in, description are of object data type\n",
    "Only release_year is of int data type"
   ]
  },
  {
   "cell_type": "code",
   "execution_count": 6,
   "id": "1fa01c8f",
   "metadata": {},
   "outputs": [
    {
     "data": {
      "text/plain": [
       "0"
      ]
     },
     "execution_count": 6,
     "metadata": {},
     "output_type": "execute_result"
    }
   ],
   "source": [
    "# duplicate value count\n",
    "\n",
    "df.duplicated().sum()"
   ]
  },
  {
   "cell_type": "code",
   "execution_count": 7,
   "id": "d0f2ace4",
   "metadata": {},
   "outputs": [
    {
     "data": {
      "text/plain": [
       "show_id            0\n",
       "type               0\n",
       "title              0\n",
       "director        2389\n",
       "cast             718\n",
       "country          507\n",
       "date_added        10\n",
       "release_year       0\n",
       "rating             7\n",
       "duration           0\n",
       "listed_in          0\n",
       "description        0\n",
       "dtype: int64"
      ]
     },
     "execution_count": 7,
     "metadata": {},
     "output_type": "execute_result"
    }
   ],
   "source": [
    "# missing/null values\n",
    "\n",
    "df.isnull().sum()"
   ]
  },
  {
   "cell_type": "code",
   "execution_count": 10,
   "id": "00ed4175",
   "metadata": {},
   "outputs": [
    {
     "name": "stdout",
     "output_type": "stream",
     "text": [
      "director's null percentage: 30.68%\n",
      "cast's null percentage: 9.22%\n",
      "country's null percentage: 6.51%\n",
      "date_added's null percentage: 0.13%\n",
      "rating's null percentage: 0.09%\n"
     ]
    }
   ],
   "source": [
    "# percentage of null values\n",
    "\n",
    "for i in df.columns:\n",
    "    pct_null = df[i].isnull().sum() / len(df)*100\n",
    "    if pct_null > 0 :\n",
    "        print( \"{}'s null percentage: {}%\".format(i, round(pct_null, 2)))"
   ]
  },
  {
   "cell_type": "markdown",
   "id": "01f01a43",
   "metadata": {},
   "source": [
    "observation: \"director\" has the most missing value followed by \"cast\" and \"country\". There are few missing value in \"date_added\" and \"rating\"."
   ]
  },
  {
   "cell_type": "markdown",
   "id": "45b9930b",
   "metadata": {},
   "source": [
    "The dataset consists of 7787 rows and 12 columns.\n",
    "Null values are present in director, cast, country, date_added, and rating. Since there are only few null values present in date_added and rating (10 & 7 respectively) we can remove them from the dataset.\n",
    "There are no duplicate values.\n",
    "The dataset consists largely of categorical variables."
   ]
  },
  {
   "cell_type": "code",
   "execution_count": 11,
   "id": "3df543d5",
   "metadata": {},
   "outputs": [
    {
     "data": {
      "text/plain": [
       "Index(['show_id', 'type', 'title', 'director', 'cast', 'country', 'date_added',\n",
       "       'release_year', 'rating', 'duration', 'listed_in', 'description'],\n",
       "      dtype='object')"
      ]
     },
     "execution_count": 11,
     "metadata": {},
     "output_type": "execute_result"
    }
   ],
   "source": [
    "# Understanding variables\n",
    "# dataset columns\n",
    "\n",
    "df.columns"
   ]
  },
  {
   "cell_type": "code",
   "execution_count": 12,
   "id": "aeebfa72",
   "metadata": {},
   "outputs": [
    {
     "data": {
      "text/html": [
       "<div>\n",
       "<style scoped>\n",
       "    .dataframe tbody tr th:only-of-type {\n",
       "        vertical-align: middle;\n",
       "    }\n",
       "\n",
       "    .dataframe tbody tr th {\n",
       "        vertical-align: top;\n",
       "    }\n",
       "\n",
       "    .dataframe thead th {\n",
       "        text-align: right;\n",
       "    }\n",
       "</style>\n",
       "<table border=\"1\" class=\"dataframe\">\n",
       "  <thead>\n",
       "    <tr style=\"text-align: right;\">\n",
       "      <th></th>\n",
       "      <th>show_id</th>\n",
       "      <th>type</th>\n",
       "      <th>title</th>\n",
       "      <th>director</th>\n",
       "      <th>cast</th>\n",
       "      <th>country</th>\n",
       "      <th>date_added</th>\n",
       "      <th>release_year</th>\n",
       "      <th>rating</th>\n",
       "      <th>duration</th>\n",
       "      <th>listed_in</th>\n",
       "      <th>description</th>\n",
       "    </tr>\n",
       "  </thead>\n",
       "  <tbody>\n",
       "    <tr>\n",
       "      <th>count</th>\n",
       "      <td>7787</td>\n",
       "      <td>7787</td>\n",
       "      <td>7787</td>\n",
       "      <td>5398</td>\n",
       "      <td>7069</td>\n",
       "      <td>7280</td>\n",
       "      <td>7777</td>\n",
       "      <td>7787.000000</td>\n",
       "      <td>7780</td>\n",
       "      <td>7787</td>\n",
       "      <td>7787</td>\n",
       "      <td>7787</td>\n",
       "    </tr>\n",
       "    <tr>\n",
       "      <th>unique</th>\n",
       "      <td>7787</td>\n",
       "      <td>2</td>\n",
       "      <td>7787</td>\n",
       "      <td>4049</td>\n",
       "      <td>6831</td>\n",
       "      <td>681</td>\n",
       "      <td>1565</td>\n",
       "      <td>NaN</td>\n",
       "      <td>14</td>\n",
       "      <td>216</td>\n",
       "      <td>492</td>\n",
       "      <td>7769</td>\n",
       "    </tr>\n",
       "    <tr>\n",
       "      <th>top</th>\n",
       "      <td>s1</td>\n",
       "      <td>Movie</td>\n",
       "      <td>3%</td>\n",
       "      <td>Raúl Campos, Jan Suter</td>\n",
       "      <td>David Attenborough</td>\n",
       "      <td>United States</td>\n",
       "      <td>January 1, 2020</td>\n",
       "      <td>NaN</td>\n",
       "      <td>TV-MA</td>\n",
       "      <td>1 Season</td>\n",
       "      <td>Documentaries</td>\n",
       "      <td>Multiple women report their husbands as missin...</td>\n",
       "    </tr>\n",
       "    <tr>\n",
       "      <th>freq</th>\n",
       "      <td>1</td>\n",
       "      <td>5377</td>\n",
       "      <td>1</td>\n",
       "      <td>18</td>\n",
       "      <td>18</td>\n",
       "      <td>2555</td>\n",
       "      <td>118</td>\n",
       "      <td>NaN</td>\n",
       "      <td>2863</td>\n",
       "      <td>1608</td>\n",
       "      <td>334</td>\n",
       "      <td>3</td>\n",
       "    </tr>\n",
       "    <tr>\n",
       "      <th>mean</th>\n",
       "      <td>NaN</td>\n",
       "      <td>NaN</td>\n",
       "      <td>NaN</td>\n",
       "      <td>NaN</td>\n",
       "      <td>NaN</td>\n",
       "      <td>NaN</td>\n",
       "      <td>NaN</td>\n",
       "      <td>2013.932580</td>\n",
       "      <td>NaN</td>\n",
       "      <td>NaN</td>\n",
       "      <td>NaN</td>\n",
       "      <td>NaN</td>\n",
       "    </tr>\n",
       "    <tr>\n",
       "      <th>std</th>\n",
       "      <td>NaN</td>\n",
       "      <td>NaN</td>\n",
       "      <td>NaN</td>\n",
       "      <td>NaN</td>\n",
       "      <td>NaN</td>\n",
       "      <td>NaN</td>\n",
       "      <td>NaN</td>\n",
       "      <td>8.757395</td>\n",
       "      <td>NaN</td>\n",
       "      <td>NaN</td>\n",
       "      <td>NaN</td>\n",
       "      <td>NaN</td>\n",
       "    </tr>\n",
       "    <tr>\n",
       "      <th>min</th>\n",
       "      <td>NaN</td>\n",
       "      <td>NaN</td>\n",
       "      <td>NaN</td>\n",
       "      <td>NaN</td>\n",
       "      <td>NaN</td>\n",
       "      <td>NaN</td>\n",
       "      <td>NaN</td>\n",
       "      <td>1925.000000</td>\n",
       "      <td>NaN</td>\n",
       "      <td>NaN</td>\n",
       "      <td>NaN</td>\n",
       "      <td>NaN</td>\n",
       "    </tr>\n",
       "    <tr>\n",
       "      <th>25%</th>\n",
       "      <td>NaN</td>\n",
       "      <td>NaN</td>\n",
       "      <td>NaN</td>\n",
       "      <td>NaN</td>\n",
       "      <td>NaN</td>\n",
       "      <td>NaN</td>\n",
       "      <td>NaN</td>\n",
       "      <td>2013.000000</td>\n",
       "      <td>NaN</td>\n",
       "      <td>NaN</td>\n",
       "      <td>NaN</td>\n",
       "      <td>NaN</td>\n",
       "    </tr>\n",
       "    <tr>\n",
       "      <th>50%</th>\n",
       "      <td>NaN</td>\n",
       "      <td>NaN</td>\n",
       "      <td>NaN</td>\n",
       "      <td>NaN</td>\n",
       "      <td>NaN</td>\n",
       "      <td>NaN</td>\n",
       "      <td>NaN</td>\n",
       "      <td>2017.000000</td>\n",
       "      <td>NaN</td>\n",
       "      <td>NaN</td>\n",
       "      <td>NaN</td>\n",
       "      <td>NaN</td>\n",
       "    </tr>\n",
       "    <tr>\n",
       "      <th>75%</th>\n",
       "      <td>NaN</td>\n",
       "      <td>NaN</td>\n",
       "      <td>NaN</td>\n",
       "      <td>NaN</td>\n",
       "      <td>NaN</td>\n",
       "      <td>NaN</td>\n",
       "      <td>NaN</td>\n",
       "      <td>2018.000000</td>\n",
       "      <td>NaN</td>\n",
       "      <td>NaN</td>\n",
       "      <td>NaN</td>\n",
       "      <td>NaN</td>\n",
       "    </tr>\n",
       "    <tr>\n",
       "      <th>max</th>\n",
       "      <td>NaN</td>\n",
       "      <td>NaN</td>\n",
       "      <td>NaN</td>\n",
       "      <td>NaN</td>\n",
       "      <td>NaN</td>\n",
       "      <td>NaN</td>\n",
       "      <td>NaN</td>\n",
       "      <td>2021.000000</td>\n",
       "      <td>NaN</td>\n",
       "      <td>NaN</td>\n",
       "      <td>NaN</td>\n",
       "      <td>NaN</td>\n",
       "    </tr>\n",
       "  </tbody>\n",
       "</table>\n",
       "</div>"
      ],
      "text/plain": [
       "       show_id   type title                director                cast  \\\n",
       "count     7787   7787  7787                    5398                7069   \n",
       "unique    7787      2  7787                    4049                6831   \n",
       "top         s1  Movie    3%  Raúl Campos, Jan Suter  David Attenborough   \n",
       "freq         1   5377     1                      18                  18   \n",
       "mean       NaN    NaN   NaN                     NaN                 NaN   \n",
       "std        NaN    NaN   NaN                     NaN                 NaN   \n",
       "min        NaN    NaN   NaN                     NaN                 NaN   \n",
       "25%        NaN    NaN   NaN                     NaN                 NaN   \n",
       "50%        NaN    NaN   NaN                     NaN                 NaN   \n",
       "75%        NaN    NaN   NaN                     NaN                 NaN   \n",
       "max        NaN    NaN   NaN                     NaN                 NaN   \n",
       "\n",
       "              country       date_added  release_year rating  duration  \\\n",
       "count            7280             7777   7787.000000   7780      7787   \n",
       "unique            681             1565           NaN     14       216   \n",
       "top     United States  January 1, 2020           NaN  TV-MA  1 Season   \n",
       "freq             2555              118           NaN   2863      1608   \n",
       "mean              NaN              NaN   2013.932580    NaN       NaN   \n",
       "std               NaN              NaN      8.757395    NaN       NaN   \n",
       "min               NaN              NaN   1925.000000    NaN       NaN   \n",
       "25%               NaN              NaN   2013.000000    NaN       NaN   \n",
       "50%               NaN              NaN   2017.000000    NaN       NaN   \n",
       "75%               NaN              NaN   2018.000000    NaN       NaN   \n",
       "max               NaN              NaN   2021.000000    NaN       NaN   \n",
       "\n",
       "            listed_in                                        description  \n",
       "count            7787                                               7787  \n",
       "unique            492                                               7769  \n",
       "top     Documentaries  Multiple women report their husbands as missin...  \n",
       "freq              334                                                  3  \n",
       "mean              NaN                                                NaN  \n",
       "std               NaN                                                NaN  \n",
       "min               NaN                                                NaN  \n",
       "25%               NaN                                                NaN  \n",
       "50%               NaN                                                NaN  \n",
       "75%               NaN                                                NaN  \n",
       "max               NaN                                                NaN  "
      ]
     },
     "execution_count": 12,
     "metadata": {},
     "output_type": "execute_result"
    }
   ],
   "source": [
    "# statistical overview of data\n",
    "\n",
    "df.describe(include= 'all')"
   ]
  },
  {
   "cell_type": "code",
   "execution_count": 13,
   "id": "62d14b52",
   "metadata": {},
   "outputs": [
    {
     "data": {
      "text/plain": [
       "show_id         7787\n",
       "type               2\n",
       "title           7787\n",
       "director        4049\n",
       "cast            6831\n",
       "country          681\n",
       "date_added      1565\n",
       "release_year      73\n",
       "rating            14\n",
       "duration         216\n",
       "listed_in        492\n",
       "description     7769\n",
       "dtype: int64"
      ]
     },
     "execution_count": 13,
     "metadata": {},
     "output_type": "execute_result"
    }
   ],
   "source": [
    "# number of unique values in each variable\n",
    "\n",
    "df.nunique()"
   ]
  },
  {
   "cell_type": "markdown",
   "id": "c07f1d04",
   "metadata": {},
   "source": [
    "observation: Only the show_id and the title have unique values and the remaining columns have repeated values as there are no duplicate values\n"
   ]
  },
  {
   "cell_type": "markdown",
   "id": "513e8b90",
   "metadata": {},
   "source": [
    "# Data Wrangling\n"
   ]
  },
  {
   "cell_type": "code",
   "execution_count": 15,
   "id": "65a70322",
   "metadata": {},
   "outputs": [],
   "source": [
    "# Making copy of raw data\n",
    "\n",
    "df1= df.copy()"
   ]
  },
  {
   "cell_type": "code",
   "execution_count": 16,
   "id": "ea8b6b3c",
   "metadata": {},
   "outputs": [
    {
     "data": {
      "text/html": [
       "<div>\n",
       "<style scoped>\n",
       "    .dataframe tbody tr th:only-of-type {\n",
       "        vertical-align: middle;\n",
       "    }\n",
       "\n",
       "    .dataframe tbody tr th {\n",
       "        vertical-align: top;\n",
       "    }\n",
       "\n",
       "    .dataframe thead th {\n",
       "        text-align: right;\n",
       "    }\n",
       "</style>\n",
       "<table border=\"1\" class=\"dataframe\">\n",
       "  <thead>\n",
       "    <tr style=\"text-align: right;\">\n",
       "      <th></th>\n",
       "      <th>show_id</th>\n",
       "      <th>type</th>\n",
       "      <th>title</th>\n",
       "      <th>director</th>\n",
       "      <th>cast</th>\n",
       "      <th>country</th>\n",
       "      <th>date_added</th>\n",
       "      <th>release_year</th>\n",
       "      <th>rating</th>\n",
       "      <th>duration</th>\n",
       "      <th>listed_in</th>\n",
       "      <th>description</th>\n",
       "    </tr>\n",
       "  </thead>\n",
       "  <tbody>\n",
       "    <tr>\n",
       "      <th>0</th>\n",
       "      <td>s1</td>\n",
       "      <td>TV Show</td>\n",
       "      <td>3%</td>\n",
       "      <td>NaN</td>\n",
       "      <td>João Miguel, Bianca Comparato, Michel Gomes, R...</td>\n",
       "      <td>Brazil</td>\n",
       "      <td>August 14, 2020</td>\n",
       "      <td>2020</td>\n",
       "      <td>TV-MA</td>\n",
       "      <td>4 Seasons</td>\n",
       "      <td>International TV Shows, TV Dramas, TV Sci-Fi &amp;...</td>\n",
       "      <td>In a future where the elite inhabit an island ...</td>\n",
       "    </tr>\n",
       "    <tr>\n",
       "      <th>1</th>\n",
       "      <td>s2</td>\n",
       "      <td>Movie</td>\n",
       "      <td>7:19</td>\n",
       "      <td>Jorge Michel Grau</td>\n",
       "      <td>Demián Bichir, Héctor Bonilla, Oscar Serrano, ...</td>\n",
       "      <td>Mexico</td>\n",
       "      <td>December 23, 2016</td>\n",
       "      <td>2016</td>\n",
       "      <td>TV-MA</td>\n",
       "      <td>93 min</td>\n",
       "      <td>Dramas, International Movies</td>\n",
       "      <td>After a devastating earthquake hits Mexico Cit...</td>\n",
       "    </tr>\n",
       "    <tr>\n",
       "      <th>2</th>\n",
       "      <td>s3</td>\n",
       "      <td>Movie</td>\n",
       "      <td>23:59</td>\n",
       "      <td>Gilbert Chan</td>\n",
       "      <td>Tedd Chan, Stella Chung, Henley Hii, Lawrence ...</td>\n",
       "      <td>Singapore</td>\n",
       "      <td>December 20, 2018</td>\n",
       "      <td>2011</td>\n",
       "      <td>R</td>\n",
       "      <td>78 min</td>\n",
       "      <td>Horror Movies, International Movies</td>\n",
       "      <td>When an army recruit is found dead, his fellow...</td>\n",
       "    </tr>\n",
       "    <tr>\n",
       "      <th>3</th>\n",
       "      <td>s4</td>\n",
       "      <td>Movie</td>\n",
       "      <td>9</td>\n",
       "      <td>Shane Acker</td>\n",
       "      <td>Elijah Wood, John C. Reilly, Jennifer Connelly...</td>\n",
       "      <td>United States</td>\n",
       "      <td>November 16, 2017</td>\n",
       "      <td>2009</td>\n",
       "      <td>PG-13</td>\n",
       "      <td>80 min</td>\n",
       "      <td>Action &amp; Adventure, Independent Movies, Sci-Fi...</td>\n",
       "      <td>In a postapocalyptic world, rag-doll robots hi...</td>\n",
       "    </tr>\n",
       "    <tr>\n",
       "      <th>4</th>\n",
       "      <td>s5</td>\n",
       "      <td>Movie</td>\n",
       "      <td>21</td>\n",
       "      <td>Robert Luketic</td>\n",
       "      <td>Jim Sturgess, Kevin Spacey, Kate Bosworth, Aar...</td>\n",
       "      <td>United States</td>\n",
       "      <td>January 1, 2020</td>\n",
       "      <td>2008</td>\n",
       "      <td>PG-13</td>\n",
       "      <td>123 min</td>\n",
       "      <td>Dramas</td>\n",
       "      <td>A brilliant group of students become card-coun...</td>\n",
       "    </tr>\n",
       "    <tr>\n",
       "      <th>5</th>\n",
       "      <td>s6</td>\n",
       "      <td>TV Show</td>\n",
       "      <td>46</td>\n",
       "      <td>Serdar Akar</td>\n",
       "      <td>Erdal Beşikçioğlu, Yasemin Allen, Melis Birkan...</td>\n",
       "      <td>Turkey</td>\n",
       "      <td>July 1, 2017</td>\n",
       "      <td>2016</td>\n",
       "      <td>TV-MA</td>\n",
       "      <td>1 Season</td>\n",
       "      <td>International TV Shows, TV Dramas, TV Mysteries</td>\n",
       "      <td>A genetics professor experiments with a treatm...</td>\n",
       "    </tr>\n",
       "    <tr>\n",
       "      <th>6</th>\n",
       "      <td>s7</td>\n",
       "      <td>Movie</td>\n",
       "      <td>122</td>\n",
       "      <td>Yasir Al Yasiri</td>\n",
       "      <td>Amina Khalil, Ahmed Dawood, Tarek Lotfy, Ahmed...</td>\n",
       "      <td>Egypt</td>\n",
       "      <td>June 1, 2020</td>\n",
       "      <td>2019</td>\n",
       "      <td>TV-MA</td>\n",
       "      <td>95 min</td>\n",
       "      <td>Horror Movies, International Movies</td>\n",
       "      <td>After an awful accident, a couple admitted to ...</td>\n",
       "    </tr>\n",
       "    <tr>\n",
       "      <th>7</th>\n",
       "      <td>s8</td>\n",
       "      <td>Movie</td>\n",
       "      <td>187</td>\n",
       "      <td>Kevin Reynolds</td>\n",
       "      <td>Samuel L. Jackson, John Heard, Kelly Rowan, Cl...</td>\n",
       "      <td>United States</td>\n",
       "      <td>November 1, 2019</td>\n",
       "      <td>1997</td>\n",
       "      <td>R</td>\n",
       "      <td>119 min</td>\n",
       "      <td>Dramas</td>\n",
       "      <td>After one of his high school students attacks ...</td>\n",
       "    </tr>\n",
       "    <tr>\n",
       "      <th>8</th>\n",
       "      <td>s9</td>\n",
       "      <td>Movie</td>\n",
       "      <td>706</td>\n",
       "      <td>Shravan Kumar</td>\n",
       "      <td>Divya Dutta, Atul Kulkarni, Mohan Agashe, Anup...</td>\n",
       "      <td>India</td>\n",
       "      <td>April 1, 2019</td>\n",
       "      <td>2019</td>\n",
       "      <td>TV-14</td>\n",
       "      <td>118 min</td>\n",
       "      <td>Horror Movies, International Movies</td>\n",
       "      <td>When a doctor goes missing, his psychiatrist w...</td>\n",
       "    </tr>\n",
       "    <tr>\n",
       "      <th>9</th>\n",
       "      <td>s10</td>\n",
       "      <td>Movie</td>\n",
       "      <td>1920</td>\n",
       "      <td>Vikram Bhatt</td>\n",
       "      <td>Rajneesh Duggal, Adah Sharma, Indraneil Sengup...</td>\n",
       "      <td>India</td>\n",
       "      <td>December 15, 2017</td>\n",
       "      <td>2008</td>\n",
       "      <td>TV-MA</td>\n",
       "      <td>143 min</td>\n",
       "      <td>Horror Movies, International Movies, Thrillers</td>\n",
       "      <td>An architect and his wife move into a castle t...</td>\n",
       "    </tr>\n",
       "  </tbody>\n",
       "</table>\n",
       "</div>"
      ],
      "text/plain": [
       "  show_id     type  title           director  \\\n",
       "0      s1  TV Show     3%                NaN   \n",
       "1      s2    Movie   7:19  Jorge Michel Grau   \n",
       "2      s3    Movie  23:59       Gilbert Chan   \n",
       "3      s4    Movie      9        Shane Acker   \n",
       "4      s5    Movie     21     Robert Luketic   \n",
       "5      s6  TV Show     46        Serdar Akar   \n",
       "6      s7    Movie    122    Yasir Al Yasiri   \n",
       "7      s8    Movie    187     Kevin Reynolds   \n",
       "8      s9    Movie    706      Shravan Kumar   \n",
       "9     s10    Movie   1920       Vikram Bhatt   \n",
       "\n",
       "                                                cast        country  \\\n",
       "0  João Miguel, Bianca Comparato, Michel Gomes, R...         Brazil   \n",
       "1  Demián Bichir, Héctor Bonilla, Oscar Serrano, ...         Mexico   \n",
       "2  Tedd Chan, Stella Chung, Henley Hii, Lawrence ...      Singapore   \n",
       "3  Elijah Wood, John C. Reilly, Jennifer Connelly...  United States   \n",
       "4  Jim Sturgess, Kevin Spacey, Kate Bosworth, Aar...  United States   \n",
       "5  Erdal Beşikçioğlu, Yasemin Allen, Melis Birkan...         Turkey   \n",
       "6  Amina Khalil, Ahmed Dawood, Tarek Lotfy, Ahmed...          Egypt   \n",
       "7  Samuel L. Jackson, John Heard, Kelly Rowan, Cl...  United States   \n",
       "8  Divya Dutta, Atul Kulkarni, Mohan Agashe, Anup...          India   \n",
       "9  Rajneesh Duggal, Adah Sharma, Indraneil Sengup...          India   \n",
       "\n",
       "          date_added  release_year rating   duration  \\\n",
       "0    August 14, 2020          2020  TV-MA  4 Seasons   \n",
       "1  December 23, 2016          2016  TV-MA     93 min   \n",
       "2  December 20, 2018          2011      R     78 min   \n",
       "3  November 16, 2017          2009  PG-13     80 min   \n",
       "4    January 1, 2020          2008  PG-13    123 min   \n",
       "5       July 1, 2017          2016  TV-MA   1 Season   \n",
       "6       June 1, 2020          2019  TV-MA     95 min   \n",
       "7   November 1, 2019          1997      R    119 min   \n",
       "8      April 1, 2019          2019  TV-14    118 min   \n",
       "9  December 15, 2017          2008  TV-MA    143 min   \n",
       "\n",
       "                                           listed_in  \\\n",
       "0  International TV Shows, TV Dramas, TV Sci-Fi &...   \n",
       "1                       Dramas, International Movies   \n",
       "2                Horror Movies, International Movies   \n",
       "3  Action & Adventure, Independent Movies, Sci-Fi...   \n",
       "4                                             Dramas   \n",
       "5    International TV Shows, TV Dramas, TV Mysteries   \n",
       "6                Horror Movies, International Movies   \n",
       "7                                             Dramas   \n",
       "8                Horror Movies, International Movies   \n",
       "9     Horror Movies, International Movies, Thrillers   \n",
       "\n",
       "                                         description  \n",
       "0  In a future where the elite inhabit an island ...  \n",
       "1  After a devastating earthquake hits Mexico Cit...  \n",
       "2  When an army recruit is found dead, his fellow...  \n",
       "3  In a postapocalyptic world, rag-doll robots hi...  \n",
       "4  A brilliant group of students become card-coun...  \n",
       "5  A genetics professor experiments with a treatm...  \n",
       "6  After an awful accident, a couple admitted to ...  \n",
       "7  After one of his high school students attacks ...  \n",
       "8  When a doctor goes missing, his psychiatrist w...  \n",
       "9  An architect and his wife move into a castle t...  "
      ]
     },
     "execution_count": 16,
     "metadata": {},
     "output_type": "execute_result"
    }
   ],
   "source": [
    "df1.head(10)"
   ]
  },
  {
   "cell_type": "code",
   "execution_count": 17,
   "id": "28ab5f78",
   "metadata": {},
   "outputs": [
    {
     "data": {
      "text/plain": [
       "Index(['show_id', 'type', 'title', 'country', 'date_added', 'release_year',\n",
       "       'rating', 'duration', 'listed_in', 'description'],\n",
       "      dtype='object')"
      ]
     },
     "execution_count": 17,
     "metadata": {},
     "output_type": "execute_result"
    }
   ],
   "source": [
    "# Dropping columns\n",
    "\n",
    "df1.drop(['director', 'cast'], inplace= True, axis= 1)\n",
    "df1.columns"
   ]
  },
  {
   "cell_type": "markdown",
   "id": "c72394db",
   "metadata": {},
   "source": [
    "Director and cast columns were removed because they are not necessary for the business model ahead "
   ]
  },
  {
   "cell_type": "code",
   "execution_count": 32,
   "id": "edb5e03c",
   "metadata": {},
   "outputs": [],
   "source": [
    "# removing null values from date_added column as there are only 10 null values\n",
    "\n",
    "df1=df1[df1[\"date_added\"].notna()]\n"
   ]
  },
  {
   "cell_type": "code",
   "execution_count": 82,
   "id": "93806261",
   "metadata": {},
   "outputs": [],
   "source": [
    "# removing null values from rating column as there are only 7 null values\n",
    "\n",
    "df1 = df1.dropna(subset=['rating'])"
   ]
  },
  {
   "cell_type": "code",
   "execution_count": 34,
   "id": "7eb18b60",
   "metadata": {},
   "outputs": [],
   "source": [
    "# Creating separate Year and month column from date_added column\n",
    "\n",
    "df1['date_added'] = pd.to_datetime(df1['date_added'])  #changing the datatype\n",
    "\n",
    "df1['year']= df1['date_added'].dt.strftime('%Y')\n",
    "df1['month']= df1['date_added'].dt.strftime('%B')"
   ]
  },
  {
   "cell_type": "code",
   "execution_count": 35,
   "id": "ca9e7624",
   "metadata": {},
   "outputs": [
    {
     "data": {
      "text/html": [
       "<div>\n",
       "<style scoped>\n",
       "    .dataframe tbody tr th:only-of-type {\n",
       "        vertical-align: middle;\n",
       "    }\n",
       "\n",
       "    .dataframe tbody tr th {\n",
       "        vertical-align: top;\n",
       "    }\n",
       "\n",
       "    .dataframe thead th {\n",
       "        text-align: right;\n",
       "    }\n",
       "</style>\n",
       "<table border=\"1\" class=\"dataframe\">\n",
       "  <thead>\n",
       "    <tr style=\"text-align: right;\">\n",
       "      <th></th>\n",
       "      <th>show_id</th>\n",
       "      <th>type</th>\n",
       "      <th>title</th>\n",
       "      <th>country</th>\n",
       "      <th>date_added</th>\n",
       "      <th>release_year</th>\n",
       "      <th>rating</th>\n",
       "      <th>duration</th>\n",
       "      <th>listed_in</th>\n",
       "      <th>description</th>\n",
       "      <th>principal_country</th>\n",
       "      <th>first_country</th>\n",
       "      <th>year</th>\n",
       "      <th>month</th>\n",
       "    </tr>\n",
       "  </thead>\n",
       "  <tbody>\n",
       "    <tr>\n",
       "      <th>0</th>\n",
       "      <td>s1</td>\n",
       "      <td>TV Show</td>\n",
       "      <td>3%</td>\n",
       "      <td>Brazil</td>\n",
       "      <td>2020-08-14</td>\n",
       "      <td>2020</td>\n",
       "      <td>TV-MA</td>\n",
       "      <td>4 Seasons</td>\n",
       "      <td>International TV Shows, TV Dramas, TV Sci-Fi &amp;...</td>\n",
       "      <td>In a future where the elite inhabit an island ...</td>\n",
       "      <td>Brazil</td>\n",
       "      <td>Brazil</td>\n",
       "      <td>2020</td>\n",
       "      <td>August</td>\n",
       "    </tr>\n",
       "    <tr>\n",
       "      <th>1</th>\n",
       "      <td>s2</td>\n",
       "      <td>Movie</td>\n",
       "      <td>7:19</td>\n",
       "      <td>Mexico</td>\n",
       "      <td>2016-12-23</td>\n",
       "      <td>2016</td>\n",
       "      <td>TV-MA</td>\n",
       "      <td>93 min</td>\n",
       "      <td>Dramas, International Movies</td>\n",
       "      <td>After a devastating earthquake hits Mexico Cit...</td>\n",
       "      <td>Mexico</td>\n",
       "      <td>Mexico</td>\n",
       "      <td>2016</td>\n",
       "      <td>December</td>\n",
       "    </tr>\n",
       "    <tr>\n",
       "      <th>2</th>\n",
       "      <td>s3</td>\n",
       "      <td>Movie</td>\n",
       "      <td>23:59</td>\n",
       "      <td>Singapore</td>\n",
       "      <td>2018-12-20</td>\n",
       "      <td>2011</td>\n",
       "      <td>R</td>\n",
       "      <td>78 min</td>\n",
       "      <td>Horror Movies, International Movies</td>\n",
       "      <td>When an army recruit is found dead, his fellow...</td>\n",
       "      <td>Singapore</td>\n",
       "      <td>Singapore</td>\n",
       "      <td>2018</td>\n",
       "      <td>December</td>\n",
       "    </tr>\n",
       "    <tr>\n",
       "      <th>3</th>\n",
       "      <td>s4</td>\n",
       "      <td>Movie</td>\n",
       "      <td>9</td>\n",
       "      <td>United States</td>\n",
       "      <td>2017-11-16</td>\n",
       "      <td>2009</td>\n",
       "      <td>PG-13</td>\n",
       "      <td>80 min</td>\n",
       "      <td>Action &amp; Adventure, Independent Movies, Sci-Fi...</td>\n",
       "      <td>In a postapocalyptic world, rag-doll robots hi...</td>\n",
       "      <td>United States</td>\n",
       "      <td>United States</td>\n",
       "      <td>2017</td>\n",
       "      <td>November</td>\n",
       "    </tr>\n",
       "    <tr>\n",
       "      <th>4</th>\n",
       "      <td>s5</td>\n",
       "      <td>Movie</td>\n",
       "      <td>21</td>\n",
       "      <td>United States</td>\n",
       "      <td>2020-01-01</td>\n",
       "      <td>2008</td>\n",
       "      <td>PG-13</td>\n",
       "      <td>123 min</td>\n",
       "      <td>Dramas</td>\n",
       "      <td>A brilliant group of students become card-coun...</td>\n",
       "      <td>United States</td>\n",
       "      <td>United States</td>\n",
       "      <td>2020</td>\n",
       "      <td>January</td>\n",
       "    </tr>\n",
       "  </tbody>\n",
       "</table>\n",
       "</div>"
      ],
      "text/plain": [
       "  show_id     type  title        country date_added  release_year rating  \\\n",
       "0      s1  TV Show     3%         Brazil 2020-08-14          2020  TV-MA   \n",
       "1      s2    Movie   7:19         Mexico 2016-12-23          2016  TV-MA   \n",
       "2      s3    Movie  23:59      Singapore 2018-12-20          2011      R   \n",
       "3      s4    Movie      9  United States 2017-11-16          2009  PG-13   \n",
       "4      s5    Movie     21  United States 2020-01-01          2008  PG-13   \n",
       "\n",
       "    duration                                          listed_in  \\\n",
       "0  4 Seasons  International TV Shows, TV Dramas, TV Sci-Fi &...   \n",
       "1     93 min                       Dramas, International Movies   \n",
       "2     78 min                Horror Movies, International Movies   \n",
       "3     80 min  Action & Adventure, Independent Movies, Sci-Fi...   \n",
       "4    123 min                                             Dramas   \n",
       "\n",
       "                                         description principal_country  \\\n",
       "0  In a future where the elite inhabit an island ...            Brazil   \n",
       "1  After a devastating earthquake hits Mexico Cit...            Mexico   \n",
       "2  When an army recruit is found dead, his fellow...         Singapore   \n",
       "3  In a postapocalyptic world, rag-doll robots hi...     United States   \n",
       "4  A brilliant group of students become card-coun...     United States   \n",
       "\n",
       "   first_country  year     month  \n",
       "0         Brazil  2020    August  \n",
       "1         Mexico  2016  December  \n",
       "2      Singapore  2018  December  \n",
       "3  United States  2017  November  \n",
       "4  United States  2020   January  "
      ]
     },
     "execution_count": 35,
     "metadata": {},
     "output_type": "execute_result"
    }
   ],
   "source": [
    "df1.head(5)"
   ]
  },
  {
   "cell_type": "code",
   "execution_count": 83,
   "id": "d3b5b64e",
   "metadata": {},
   "outputs": [
    {
     "data": {
      "text/plain": [
       "show_id              0\n",
       "type                 0\n",
       "title                0\n",
       "country              0\n",
       "date_added           0\n",
       "release_year         0\n",
       "rating               0\n",
       "duration             0\n",
       "listed_in            0\n",
       "description          0\n",
       "principal_country    0\n",
       "first_country        0\n",
       "year                 0\n",
       "month                0\n",
       "dtype: int64"
      ]
     },
     "execution_count": 83,
     "metadata": {},
     "output_type": "execute_result"
    }
   ],
   "source": [
    "df1.isnull().sum()"
   ]
  },
  {
   "cell_type": "code",
   "execution_count": 21,
   "id": "c1bd3795",
   "metadata": {},
   "outputs": [],
   "source": [
    "# Imputing country coulmn with mode\n",
    "\n",
    "df1['country'] = df1['country'].fillna(df1['country'].mode()[0])"
   ]
  },
  {
   "cell_type": "code",
   "execution_count": 23,
   "id": "35e8c23d",
   "metadata": {},
   "outputs": [
    {
     "data": {
      "text/plain": [
       "681"
      ]
     },
     "execution_count": 23,
     "metadata": {},
     "output_type": "execute_result"
    }
   ],
   "source": [
    "df1['country'].nunique()"
   ]
  },
  {
   "cell_type": "markdown",
   "id": "3e9165e9",
   "metadata": {},
   "source": [
    "In the 'country' column, we see that there are some entry where it has multiple values, so we will add a new column with just the first one so we can check which regions have more productions\n"
   ]
  },
  {
   "cell_type": "code",
   "execution_count": 25,
   "id": "1c3f5e8c",
   "metadata": {},
   "outputs": [
    {
     "data": {
      "text/plain": [
       "0           Brazil\n",
       "1           Mexico\n",
       "2        Singapore\n",
       "3    United States\n",
       "4    United States\n",
       "Name: first_country, dtype: object"
      ]
     },
     "execution_count": 25,
     "metadata": {},
     "output_type": "execute_result"
    }
   ],
   "source": [
    "# retrieving the first country from multiple values\n",
    "\n",
    "df1['first_country'] = df1['country'].apply(lambda x: x.split(\",\")[0])\n",
    "df1['first_country'].head()"
   ]
  },
  {
   "cell_type": "code",
   "execution_count": 26,
   "id": "8bfbfbcd",
   "metadata": {},
   "outputs": [
    {
     "data": {
      "text/plain": [
       "81"
      ]
     },
     "execution_count": 26,
     "metadata": {},
     "output_type": "execute_result"
    }
   ],
   "source": [
    "df1['first_country'].nunique()"
   ]
  },
  {
   "cell_type": "markdown",
   "id": "6e9c2b0b",
   "metadata": {},
   "source": [
    "Earlier there were 681 unique contries now it has been reduced to 81"
   ]
  },
  {
   "cell_type": "code",
   "execution_count": 97,
   "id": "bc07bf10",
   "metadata": {},
   "outputs": [
    {
     "data": {
      "text/plain": [
       "Index(['show_id', 'type', 'title', 'country', 'date_added', 'release_year',\n",
       "       'rating', 'duration', 'listed_in', 'description', 'first_country',\n",
       "       'year', 'month', 'target_ages'],\n",
       "      dtype='object')"
      ]
     },
     "execution_count": 97,
     "metadata": {},
     "output_type": "execute_result"
    }
   ],
   "source": [
    "df1.drop(['principal_country'], inplace= True, axis= 1)\n",
    "df1.columns"
   ]
  },
  {
   "cell_type": "code",
   "execution_count": 95,
   "id": "9dfababe",
   "metadata": {},
   "outputs": [
    {
     "data": {
      "text/plain": [
       "array(['Adults', 'Teens', 'Older Kids', 'Kids'], dtype=object)"
      ]
     },
     "execution_count": 95,
     "metadata": {},
     "output_type": "execute_result"
    }
   ],
   "source": [
    "# Creating a new coulmn based on rating coulmn\n",
    "\n",
    "ratings_ages = {\n",
    "    'TV-PG': 'Older Kids',\n",
    "    'TV-MA': 'Adults',\n",
    "    'TV-Y7-FV': 'Older Kids',\n",
    "    'TV-Y7': 'Older Kids',\n",
    "    'TV-14': 'Teens',\n",
    "    'R': 'Adults',\n",
    "    'TV-Y': 'Kids',\n",
    "    'NR': 'Adults',\n",
    "    'PG-13': 'Teens',\n",
    "    'TV-G': 'Kids',\n",
    "    'PG': 'Older Kids',\n",
    "    'G': 'Kids',\n",
    "    'UR': 'Adults',\n",
    "    'NC-17': 'Adults'\n",
    "}\n",
    "df1['target_ages'] = df1['rating'].replace(ratings_ages)\n",
    "\n",
    "df1['target_ages'].unique()"
   ]
  },
  {
   "cell_type": "code",
   "execution_count": 98,
   "id": "f00e7b92",
   "metadata": {},
   "outputs": [
    {
     "data": {
      "text/html": [
       "<div>\n",
       "<style scoped>\n",
       "    .dataframe tbody tr th:only-of-type {\n",
       "        vertical-align: middle;\n",
       "    }\n",
       "\n",
       "    .dataframe tbody tr th {\n",
       "        vertical-align: top;\n",
       "    }\n",
       "\n",
       "    .dataframe thead th {\n",
       "        text-align: right;\n",
       "    }\n",
       "</style>\n",
       "<table border=\"1\" class=\"dataframe\">\n",
       "  <thead>\n",
       "    <tr style=\"text-align: right;\">\n",
       "      <th></th>\n",
       "      <th>show_id</th>\n",
       "      <th>type</th>\n",
       "      <th>title</th>\n",
       "      <th>country</th>\n",
       "      <th>date_added</th>\n",
       "      <th>release_year</th>\n",
       "      <th>rating</th>\n",
       "      <th>duration</th>\n",
       "      <th>listed_in</th>\n",
       "      <th>description</th>\n",
       "      <th>first_country</th>\n",
       "      <th>year</th>\n",
       "      <th>month</th>\n",
       "      <th>target_ages</th>\n",
       "    </tr>\n",
       "  </thead>\n",
       "  <tbody>\n",
       "    <tr>\n",
       "      <th>0</th>\n",
       "      <td>s1</td>\n",
       "      <td>TV Show</td>\n",
       "      <td>3%</td>\n",
       "      <td>Brazil</td>\n",
       "      <td>2020-08-14</td>\n",
       "      <td>2020</td>\n",
       "      <td>TV-MA</td>\n",
       "      <td>4 Seasons</td>\n",
       "      <td>International TV Shows, TV Dramas, TV Sci-Fi &amp;...</td>\n",
       "      <td>In a future where the elite inhabit an island ...</td>\n",
       "      <td>Brazil</td>\n",
       "      <td>2020</td>\n",
       "      <td>August</td>\n",
       "      <td>Adults</td>\n",
       "    </tr>\n",
       "    <tr>\n",
       "      <th>1</th>\n",
       "      <td>s2</td>\n",
       "      <td>Movie</td>\n",
       "      <td>7:19</td>\n",
       "      <td>Mexico</td>\n",
       "      <td>2016-12-23</td>\n",
       "      <td>2016</td>\n",
       "      <td>TV-MA</td>\n",
       "      <td>93 min</td>\n",
       "      <td>Dramas, International Movies</td>\n",
       "      <td>After a devastating earthquake hits Mexico Cit...</td>\n",
       "      <td>Mexico</td>\n",
       "      <td>2016</td>\n",
       "      <td>December</td>\n",
       "      <td>Adults</td>\n",
       "    </tr>\n",
       "    <tr>\n",
       "      <th>2</th>\n",
       "      <td>s3</td>\n",
       "      <td>Movie</td>\n",
       "      <td>23:59</td>\n",
       "      <td>Singapore</td>\n",
       "      <td>2018-12-20</td>\n",
       "      <td>2011</td>\n",
       "      <td>R</td>\n",
       "      <td>78 min</td>\n",
       "      <td>Horror Movies, International Movies</td>\n",
       "      <td>When an army recruit is found dead, his fellow...</td>\n",
       "      <td>Singapore</td>\n",
       "      <td>2018</td>\n",
       "      <td>December</td>\n",
       "      <td>Adults</td>\n",
       "    </tr>\n",
       "    <tr>\n",
       "      <th>3</th>\n",
       "      <td>s4</td>\n",
       "      <td>Movie</td>\n",
       "      <td>9</td>\n",
       "      <td>United States</td>\n",
       "      <td>2017-11-16</td>\n",
       "      <td>2009</td>\n",
       "      <td>PG-13</td>\n",
       "      <td>80 min</td>\n",
       "      <td>Action &amp; Adventure, Independent Movies, Sci-Fi...</td>\n",
       "      <td>In a postapocalyptic world, rag-doll robots hi...</td>\n",
       "      <td>United States</td>\n",
       "      <td>2017</td>\n",
       "      <td>November</td>\n",
       "      <td>Teens</td>\n",
       "    </tr>\n",
       "    <tr>\n",
       "      <th>4</th>\n",
       "      <td>s5</td>\n",
       "      <td>Movie</td>\n",
       "      <td>21</td>\n",
       "      <td>United States</td>\n",
       "      <td>2020-01-01</td>\n",
       "      <td>2008</td>\n",
       "      <td>PG-13</td>\n",
       "      <td>123 min</td>\n",
       "      <td>Dramas</td>\n",
       "      <td>A brilliant group of students become card-coun...</td>\n",
       "      <td>United States</td>\n",
       "      <td>2020</td>\n",
       "      <td>January</td>\n",
       "      <td>Teens</td>\n",
       "    </tr>\n",
       "    <tr>\n",
       "      <th>5</th>\n",
       "      <td>s6</td>\n",
       "      <td>TV Show</td>\n",
       "      <td>46</td>\n",
       "      <td>Turkey</td>\n",
       "      <td>2017-07-01</td>\n",
       "      <td>2016</td>\n",
       "      <td>TV-MA</td>\n",
       "      <td>1 Season</td>\n",
       "      <td>International TV Shows, TV Dramas, TV Mysteries</td>\n",
       "      <td>A genetics professor experiments with a treatm...</td>\n",
       "      <td>Turkey</td>\n",
       "      <td>2017</td>\n",
       "      <td>July</td>\n",
       "      <td>Adults</td>\n",
       "    </tr>\n",
       "    <tr>\n",
       "      <th>6</th>\n",
       "      <td>s7</td>\n",
       "      <td>Movie</td>\n",
       "      <td>122</td>\n",
       "      <td>Egypt</td>\n",
       "      <td>2020-06-01</td>\n",
       "      <td>2019</td>\n",
       "      <td>TV-MA</td>\n",
       "      <td>95 min</td>\n",
       "      <td>Horror Movies, International Movies</td>\n",
       "      <td>After an awful accident, a couple admitted to ...</td>\n",
       "      <td>Egypt</td>\n",
       "      <td>2020</td>\n",
       "      <td>June</td>\n",
       "      <td>Adults</td>\n",
       "    </tr>\n",
       "    <tr>\n",
       "      <th>7</th>\n",
       "      <td>s8</td>\n",
       "      <td>Movie</td>\n",
       "      <td>187</td>\n",
       "      <td>United States</td>\n",
       "      <td>2019-11-01</td>\n",
       "      <td>1997</td>\n",
       "      <td>R</td>\n",
       "      <td>119 min</td>\n",
       "      <td>Dramas</td>\n",
       "      <td>After one of his high school students attacks ...</td>\n",
       "      <td>United States</td>\n",
       "      <td>2019</td>\n",
       "      <td>November</td>\n",
       "      <td>Adults</td>\n",
       "    </tr>\n",
       "    <tr>\n",
       "      <th>8</th>\n",
       "      <td>s9</td>\n",
       "      <td>Movie</td>\n",
       "      <td>706</td>\n",
       "      <td>India</td>\n",
       "      <td>2019-04-01</td>\n",
       "      <td>2019</td>\n",
       "      <td>TV-14</td>\n",
       "      <td>118 min</td>\n",
       "      <td>Horror Movies, International Movies</td>\n",
       "      <td>When a doctor goes missing, his psychiatrist w...</td>\n",
       "      <td>India</td>\n",
       "      <td>2019</td>\n",
       "      <td>April</td>\n",
       "      <td>Teens</td>\n",
       "    </tr>\n",
       "    <tr>\n",
       "      <th>9</th>\n",
       "      <td>s10</td>\n",
       "      <td>Movie</td>\n",
       "      <td>1920</td>\n",
       "      <td>India</td>\n",
       "      <td>2017-12-15</td>\n",
       "      <td>2008</td>\n",
       "      <td>TV-MA</td>\n",
       "      <td>143 min</td>\n",
       "      <td>Horror Movies, International Movies, Thrillers</td>\n",
       "      <td>An architect and his wife move into a castle t...</td>\n",
       "      <td>India</td>\n",
       "      <td>2017</td>\n",
       "      <td>December</td>\n",
       "      <td>Adults</td>\n",
       "    </tr>\n",
       "  </tbody>\n",
       "</table>\n",
       "</div>"
      ],
      "text/plain": [
       "  show_id     type  title        country date_added  release_year rating  \\\n",
       "0      s1  TV Show     3%         Brazil 2020-08-14          2020  TV-MA   \n",
       "1      s2    Movie   7:19         Mexico 2016-12-23          2016  TV-MA   \n",
       "2      s3    Movie  23:59      Singapore 2018-12-20          2011      R   \n",
       "3      s4    Movie      9  United States 2017-11-16          2009  PG-13   \n",
       "4      s5    Movie     21  United States 2020-01-01          2008  PG-13   \n",
       "5      s6  TV Show     46         Turkey 2017-07-01          2016  TV-MA   \n",
       "6      s7    Movie    122          Egypt 2020-06-01          2019  TV-MA   \n",
       "7      s8    Movie    187  United States 2019-11-01          1997      R   \n",
       "8      s9    Movie    706          India 2019-04-01          2019  TV-14   \n",
       "9     s10    Movie   1920          India 2017-12-15          2008  TV-MA   \n",
       "\n",
       "    duration                                          listed_in  \\\n",
       "0  4 Seasons  International TV Shows, TV Dramas, TV Sci-Fi &...   \n",
       "1     93 min                       Dramas, International Movies   \n",
       "2     78 min                Horror Movies, International Movies   \n",
       "3     80 min  Action & Adventure, Independent Movies, Sci-Fi...   \n",
       "4    123 min                                             Dramas   \n",
       "5   1 Season    International TV Shows, TV Dramas, TV Mysteries   \n",
       "6     95 min                Horror Movies, International Movies   \n",
       "7    119 min                                             Dramas   \n",
       "8    118 min                Horror Movies, International Movies   \n",
       "9    143 min     Horror Movies, International Movies, Thrillers   \n",
       "\n",
       "                                         description  first_country  year  \\\n",
       "0  In a future where the elite inhabit an island ...         Brazil  2020   \n",
       "1  After a devastating earthquake hits Mexico Cit...         Mexico  2016   \n",
       "2  When an army recruit is found dead, his fellow...      Singapore  2018   \n",
       "3  In a postapocalyptic world, rag-doll robots hi...  United States  2017   \n",
       "4  A brilliant group of students become card-coun...  United States  2020   \n",
       "5  A genetics professor experiments with a treatm...         Turkey  2017   \n",
       "6  After an awful accident, a couple admitted to ...          Egypt  2020   \n",
       "7  After one of his high school students attacks ...  United States  2019   \n",
       "8  When a doctor goes missing, his psychiatrist w...          India  2019   \n",
       "9  An architect and his wife move into a castle t...          India  2017   \n",
       "\n",
       "      month target_ages  \n",
       "0    August      Adults  \n",
       "1  December      Adults  \n",
       "2  December      Adults  \n",
       "3  November       Teens  \n",
       "4   January       Teens  \n",
       "5      July      Adults  \n",
       "6      June      Adults  \n",
       "7  November      Adults  \n",
       "8     April       Teens  \n",
       "9  December      Adults  "
      ]
     },
     "execution_count": 98,
     "metadata": {},
     "output_type": "execute_result"
    }
   ],
   "source": [
    "# Checking the new created coulmn\n",
    "\n",
    "df1.head(10)"
   ]
  },
  {
   "cell_type": "markdown",
   "id": "781c3817",
   "metadata": {},
   "source": [
    "# What all manipulations have you done and insights you found"
   ]
  },
  {
   "cell_type": "markdown",
   "id": "fcc79b1c",
   "metadata": {},
   "source": [
    "1. Dropped director and cast column completely\n",
    "2. Imputed the country coulmn with the mode and added a separate column for the first occurrence of the country\n",
    "3. Removed 7 rows of missing values from rating column\n",
    "4. Removed 10 rows of missing values from date_added column\n",
    "5. Created three separate columns- year,month and target ages based on existing coulmns for further analysis"
   ]
  },
  {
   "cell_type": "markdown",
   "id": "f1d707ac",
   "metadata": {},
   "source": [
    "# Data Vizualization, Storytelling & Experimenting with charts : Understand the relationships between variables"
   ]
  },
  {
   "cell_type": "code",
   "execution_count": 37,
   "id": "863cf3cc",
   "metadata": {},
   "outputs": [
    {
     "data": {
      "image/png": "[encoded data removed]",
      "text/plain": [
       "<Figure size 1200x800 with 1 Axes>"
      ]
     },
     "metadata": {},
     "output_type": "display_data"
    }
   ],
   "source": [
    "# Percentage of Movies Vs. T.V. Shows\n",
    "\n",
    "label= ['TV Show', 'Movie']\n",
    "plt.pie(df1['type'].value_counts().sort_values(), labels=label, \n",
    "        autopct='%1.2f%%')\n",
    "plt.title('Percentage of Movies Vs. TV Shows')\n",
    "plt.show()"
   ]
  },
  {
   "cell_type": "markdown",
   "id": "0c80e25e",
   "metadata": {},
   "source": [
    "1. Why did you pick the specific chart?\n",
    "Pie charts are very useful in depicting part to whole relationship in the data. Percentage comparison can also be easily done so the above chart was chosen to express the share of movies Vs TV shows\n",
    "\n",
    "2. What is/are the insight(s) found from the chart?\n",
    "30% of the content on netflix comprises of TV shows while the rest approx 70% consists of movies\n",
    "\n",
    "3. Will the gained insights help creating a positive business impact?\n",
    "\n"
   ]
  },
  {
   "cell_type": "code",
   "execution_count": 47,
   "id": "f3b715e7",
   "metadata": {},
   "outputs": [
    {
     "data": {
      "text/plain": [
       "type     first_country \n",
       "Movie    United States     2330\n",
       "         India              883\n",
       "         United Kingdom     341\n",
       "         Canada             175\n",
       "         France             137\n",
       "         Spain              119\n",
       "         Egypt               93\n",
       "         Mexico              79\n",
       "         Turkey              78\n",
       "         Japan               75\n",
       "TV Show  United States     1053\n",
       "         United Kingdom     235\n",
       "         Japan              161\n",
       "         South Korea        152\n",
       "         Canada              84\n",
       "         India               73\n",
       "         Taiwan              70\n",
       "         France              59\n",
       "         Australia           51\n",
       "         Spain               49\n",
       "Name: first_country, dtype: int64"
      ]
     },
     "execution_count": 47,
     "metadata": {},
     "output_type": "execute_result"
    }
   ],
   "source": [
    "# Top 10 countries with maximum content \n",
    "\n",
    "grouping= df1.groupby(['type']).first_country.value_counts().groupby(level=0).head(10)\n",
    "grouping"
   ]
  },
  {
   "cell_type": "code",
   "execution_count": 64,
   "id": "25b53508",
   "metadata": {},
   "outputs": [
    {
     "data": {
      "image/png": "[encoded data removed]",
      "text/plain": [
       "<Figure size 1000x500 with 1 Axes>"
      ]
     },
     "metadata": {},
     "output_type": "display_data"
    }
   ],
   "source": [
    "# Set Labels\n",
    "plt.figure(figsize=(10, 5))\n",
    "sns.countplot(y='country', hue='type', data=df1, order=df1.country.value_counts().iloc[:10].index)\n",
    "plt.title('Top Ten Countries With Most Netflix Content')\n",
    "plt.ylabel('Country')\n",
    "plt.xlabel('total movies and TV shows')\n",
    "\n",
    "# Display Chart\n",
    "plt.show()"
   ]
  },
  {
   "cell_type": "markdown",
   "id": "939514b0",
   "metadata": {},
   "source": [
    "1. Why did you pick the specific chart?\n",
    "Bar graphs are useful for comparing data across different categories, so to display total number of movies and tv shows in various countries bar graph is appropriate\n",
    "\n",
    "2. What is/are the insight(s) found from the chart\n",
    "U.S. tops the list with maximum number of movies(2330) as well as TV shows(1053), followed by India which has large number of movies produced as compared to TV shows because bollywood is extremely popular. South Korea on the other hand produces large number of TV shows which explains popularity of K-Drama\n",
    "\n",
    "3. Will the gained insights help creating a positive business impact?\n"
   ]
  },
  {
   "cell_type": "code",
   "execution_count": 66,
   "id": "a18c830f",
   "metadata": {},
   "outputs": [
    {
     "data": {
      "image/png": "[encoded data removed]",
      "text/plain": [
       "<Figure size 1200x800 with 1 Axes>"
      ]
     },
     "metadata": {},
     "output_type": "display_data"
    }
   ],
   "source": [
    "#Year in which maximum movies were released\n",
    "\n",
    "df_tv = df[df[\"type\"] == \"TV Show\"]\n",
    "df_movie = df[df[\"type\"] == \"Movie\"]\n",
    "\n",
    "ax = sns.countplot(y=\"release_year\", data=df_movie, order=df_movie['release_year'].value_counts().index[0:15])\n",
    "\n",
    "plt.title('Year of Maximum movie release', fontsize=15)\n",
    "plt.show()"
   ]
  },
  {
   "cell_type": "code",
   "execution_count": 60,
   "id": "2c27fb89",
   "metadata": {},
   "outputs": [
    {
     "data": {
      "image/png": "[encoded data removed]",
      "text/plain": [
       "<Figure size 1200x800 with 1 Axes>"
      ]
     },
     "metadata": {},
     "output_type": "display_data"
    }
   ],
   "source": [
    "# Year in which maximum TV shows were released\n",
    "\n",
    "ax = sns.countplot(y=\"release_year\", data=df_tv, order=df_tv['release_year'].value_counts().index[0:15])\n",
    "\n",
    "plt.title('Year of maximum TV show releases', fontsize=15)\n",
    "plt.show()"
   ]
  },
  {
   "cell_type": "markdown",
   "id": "6dea0a55",
   "metadata": {},
   "source": [
    "1. Why did you pick the specific chart?\n",
    "Bar graphs are useful for comparing data across different categories, so to show the year in which highest number of movies and tv shows were released, bar graph is used\n",
    "\n",
    "2. What is/are the insight(s) found from the chart\n",
    "Most of the movies were released in the year 2017 followed by 2018 and 2016.\n",
    "Most of the TV Shows were released in 2020 followed by 2019 and 2018.\n",
    "Substantial growth in content started from 2010 to 2020\n",
    "\n",
    "3. Will the gained insights help creating a positive business impact?\n",
    "The highest number of movies got released in 2017 and 2018 and tv shows got released in 2019 and 2020.\n",
    "Movies released were more as compared to TV shows\n",
    "very few movies were released before 2010\n"
   ]
  },
  {
   "cell_type": "code",
   "execution_count": 91,
   "id": "06cf8091",
   "metadata": {},
   "outputs": [
    {
     "data": {
      "image/png": "[encoded data removed]",
      "text/plain": [
       "<Figure size 1200x840 with 1 Axes>"
      ]
     },
     "metadata": {},
     "output_type": "display_data"
    }
   ],
   "source": [
    "# Distribution of various ratings\n",
    "plt.figure(figsize=(10,7), dpi=120)\n",
    "sns.histplot(data= df1, x= 'rating')\n",
    "\n",
    "# Set the labels\n",
    "plt.title('Distribution of Ratings')\n",
    "plt.xlabel('Ratings')\n",
    "plt.ylabel('Frequency')\n",
    "plt.xticks(rotation = 60)\n",
    "\n",
    "# Display the graph\n",
    "plt.show()"
   ]
  },
  {
   "cell_type": "code",
   "execution_count": 90,
   "id": "350a40aa",
   "metadata": {},
   "outputs": [
    {
     "data": {
      "image/png": "[encoded data removed]",
      "text/plain": [
       "<Figure size 1000x500 with 1 Axes>"
      ]
     },
     "metadata": {},
     "output_type": "display_data"
    },
    {
     "name": "stdout",
     "output_type": "stream",
     "text": [
      "Each Rating Counts for Different Types of Shows:\n",
      "rating    type   \n",
      "G         Movie        39\n",
      "NC-17     Movie         3\n",
      "NR        Movie        79\n",
      "          TV Show       4\n",
      "PG        Movie       247\n",
      "PG-13     Movie       386\n",
      "R         Movie       663\n",
      "          TV Show       2\n",
      "TV-14     Movie      1272\n",
      "          TV Show     656\n",
      "TV-G      Movie       111\n",
      "          TV Show      83\n",
      "TV-MA     Movie      1845\n",
      "          TV Show    1016\n",
      "TV-PG     Movie       505\n",
      "          TV Show     299\n",
      "TV-Y      Movie       117\n",
      "          TV Show     162\n",
      "TV-Y7     Movie        95\n",
      "          TV Show     175\n",
      "TV-Y7-FV  Movie         5\n",
      "          TV Show       1\n",
      "UR        Movie         5\n",
      "dtype: int64\n"
     ]
    }
   ],
   "source": [
    "# Count plot for number of movies and shows for each rating\n",
    "plt.figure(figsize=(10, 5))\n",
    "sns.countplot(x='rating', hue='type', data=df1)\n",
    "\n",
    "# Set Labels\n",
    "plt.title('Count of movies and shows for each rating')\n",
    "plt.xlabel('Ratings')\n",
    "plt.xticks(rotation = 60)\n",
    "\n",
    "# Display Chart\n",
    "plt.show()\n",
    "\n",
    "# Printing The Counts of Each Rating for Different Type Shows\n",
    "print('Each Rating Counts for Different Types of Shows:')\n",
    "print(df1.groupby(['rating', 'type']).size())"
   ]
  },
  {
   "cell_type": "markdown",
   "id": "463791f0",
   "metadata": {},
   "source": [
    "1. Why did you pick the specific chart?\n",
    "Bar charts are used to compare the size or frequency of different categories or groups of data. Bar charts are useful for comparing data across different categories.\n",
    "\n",
    "2. What is/are the insight(s) found from the chart\n",
    "From both histogram as well as countplot we can infer that the most content on netflix is of TV-MA rating. number of movies with this rating are 1845 and 1016 TV shows are of same rating, followed by R and PG 13 rated movies and TV shows.\n",
    "Interestingly, only R and PG 13 rated movies are very much high in number. The popularity of TV shows with the same rating is very low. TV 14 rated movies also contibute significantly.\n",
    "\n",
    "3.  Will the gained insights help creating a positive business impact?\n",
    "Netflix should add more movies as well as tv shows which are of TV-MA rating. TV shows with R and PG 13 rating should be removed from the platform.\n",
    "Movies with R, PG 13 and TV 14 ratings should be added "
   ]
  },
  {
   "cell_type": "code",
   "execution_count": 100,
   "id": "c93e2fd6",
   "metadata": {},
   "outputs": [
    {
     "data": {
      "image/png": "[encoded data removed]",
      "text/plain": [
       "<Figure size 1000x600 with 1 Axes>"
      ]
     },
     "metadata": {},
     "output_type": "display_data"
    }
   ],
   "source": [
    "# number of movies and TV shows according to target ages \n",
    "\n",
    "# Group data and count occurrences\n",
    "grouped = df1.groupby(['target_ages', 'type']).size().unstack()\n",
    "\n",
    "# Create the bar plot\n",
    "ax = grouped.plot(kind='bar', figsize=(10, 6))\n",
    "\n",
    "# Add data labels\n",
    "for container in ax.containers:\n",
    "    ax.bar_label(container)\n",
    "\n",
    "# Customize the plot\n",
    "plt.title('Distribution by Target Ages and Type')\n",
    "plt.xlabel('Target Ages')\n",
    "plt.ylabel('Count')\n",
    "plt.xticks(rotation=0)\n",
    "plt.tight_layout()\n",
    "\n",
    "# Display the plot\n",
    "plt.show()"
   ]
  },
  {
   "cell_type": "markdown",
   "id": "d4793de0",
   "metadata": {},
   "source": [
    "1. Why did you pick the specific chart?\n",
    "Bar charts are used to compare the size or frequency of different categories or groups of data.\n",
    "\n",
    "2. What is/are the insight(s) found from the chart?\n",
    "Each TV show and movie on Netflix is assigned a maturity rating to help members make informed choices for themselves and their children. So there is much more adult content on netflix as compared to kids and older kids. Netflix also has many movies targeting teen audience. Netflix has more movies as compared to tv shows for every age group.\n",
    "\n",
    "3. Will the gained insights help creating a positive business impact?\n",
    "Using the target_ages column we can easily make out the intended audience for a particular movie or TV show and hence Netflix can collect demographic data of various countries and can release content accordingly in various countries.\n",
    "Netflix should continue adding adult content as well as movies targeting to teenagers which will add more subscriptions.\n",
    "Little kids need parental guidance so there is less content focusing on them"
   ]
  },
  {
   "cell_type": "code",
   "execution_count": 70,
   "id": "29e32318",
   "metadata": {},
   "outputs": [
    {
     "data": {
      "text/html": [
       "<div>\n",
       "<style scoped>\n",
       "    .dataframe tbody tr th:only-of-type {\n",
       "        vertical-align: middle;\n",
       "    }\n",
       "\n",
       "    .dataframe tbody tr th {\n",
       "        vertical-align: top;\n",
       "    }\n",
       "\n",
       "    .dataframe thead th {\n",
       "        text-align: right;\n",
       "    }\n",
       "</style>\n",
       "<table border=\"1\" class=\"dataframe\">\n",
       "  <thead>\n",
       "    <tr style=\"text-align: right;\">\n",
       "      <th></th>\n",
       "      <th>month</th>\n",
       "      <th>count</th>\n",
       "    </tr>\n",
       "  </thead>\n",
       "  <tbody>\n",
       "    <tr>\n",
       "      <th>0</th>\n",
       "      <td>December</td>\n",
       "      <td>833</td>\n",
       "    </tr>\n",
       "    <tr>\n",
       "      <th>1</th>\n",
       "      <td>October</td>\n",
       "      <td>785</td>\n",
       "    </tr>\n",
       "    <tr>\n",
       "      <th>2</th>\n",
       "      <td>January</td>\n",
       "      <td>757</td>\n",
       "    </tr>\n",
       "    <tr>\n",
       "      <th>3</th>\n",
       "      <td>November</td>\n",
       "      <td>738</td>\n",
       "    </tr>\n",
       "    <tr>\n",
       "      <th>4</th>\n",
       "      <td>March</td>\n",
       "      <td>669</td>\n",
       "    </tr>\n",
       "    <tr>\n",
       "      <th>5</th>\n",
       "      <td>September</td>\n",
       "      <td>619</td>\n",
       "    </tr>\n",
       "    <tr>\n",
       "      <th>6</th>\n",
       "      <td>August</td>\n",
       "      <td>618</td>\n",
       "    </tr>\n",
       "    <tr>\n",
       "      <th>7</th>\n",
       "      <td>April</td>\n",
       "      <td>601</td>\n",
       "    </tr>\n",
       "    <tr>\n",
       "      <th>8</th>\n",
       "      <td>July</td>\n",
       "      <td>600</td>\n",
       "    </tr>\n",
       "    <tr>\n",
       "      <th>9</th>\n",
       "      <td>May</td>\n",
       "      <td>543</td>\n",
       "    </tr>\n",
       "    <tr>\n",
       "      <th>10</th>\n",
       "      <td>June</td>\n",
       "      <td>542</td>\n",
       "    </tr>\n",
       "    <tr>\n",
       "      <th>11</th>\n",
       "      <td>February</td>\n",
       "      <td>472</td>\n",
       "    </tr>\n",
       "  </tbody>\n",
       "</table>\n",
       "</div>"
      ],
      "text/plain": [
       "        month  count\n",
       "0    December    833\n",
       "1     October    785\n",
       "2     January    757\n",
       "3    November    738\n",
       "4       March    669\n",
       "5   September    619\n",
       "6      August    618\n",
       "7       April    601\n",
       "8        July    600\n",
       "9         May    543\n",
       "10       June    542\n",
       "11   February    472"
      ]
     },
     "execution_count": 70,
     "metadata": {},
     "output_type": "execute_result"
    }
   ],
   "source": [
    "# Month wise addition of contents\n",
    "\n",
    "\n",
    "# Create DataFrame To Store Month Values and Counts\n",
    "months_df = df1.month.value_counts().to_frame().reset_index().rename(columns={'index':'month', 'month':'count'})\n",
    "months_df"
   ]
  },
  {
   "cell_type": "code",
   "execution_count": 73,
   "id": "ad37c52f",
   "metadata": {},
   "outputs": [
    {
     "data": {
      "image/png": "[encoded data removed]",
      "text/plain": [
       "<Figure size 1000x700 with 1 Axes>"
      ]
     },
     "metadata": {},
     "output_type": "display_data"
    }
   ],
   "source": [
    "# Bar Plot for Month Wise Addition of Contents on Netflix\n",
    "plt.figure(figsize=(10, 7))\n",
    "ax=sns.barplot(data=months_df, x='month', y='count')\n",
    "\n",
    "# Set Labels\n",
    "plt.title('Month Wise Addition of Contents')\n",
    "plt.xlabel('Month')\n",
    "for i in ax.patches:\n",
    "    ax.annotate(f'{i.get_height()}', (i.get_x() + i.get_width() / 2., i.get_height()), ha = 'center', va = 'center')\n",
    "\n",
    "# Display Chart\n",
    "plt.show()"
   ]
  },
  {
   "cell_type": "markdown",
   "id": "6046565b",
   "metadata": {},
   "source": [
    "1. Why did you pick the specific chart?\n",
    "Bar charts are used to compare the size or frequency of different categories or groups of data.\n",
    "\n",
    "2. What is/are the insight(s) found from the chart?\n",
    "From above graph, it is observed that most of the shows are uploaded either by year ending or beginning. December being the month with highest release of movies and tv shows(833) followed by October(785) and January(757)\n",
    "\n",
    "3. Will the gained insights help creating a positive business impact?\n",
    "December is the month of holidays and also winter season, so people prefer to stay at home and watch movies and series. "
   ]
  },
  {
   "cell_type": "code",
   "execution_count": 74,
   "id": "45fa6500",
   "metadata": {},
   "outputs": [
    {
     "data": {
      "image/png": "[encoded data removed]",
      "text/plain": [
       "<Figure size 960x480 with 1 Axes>"
      ]
     },
     "metadata": {},
     "output_type": "display_data"
    }
   ],
   "source": [
    "# Duration of netflix movies\n",
    "\n",
    "# Splitting Movie and mins\n",
    "df_movies = df1[df1['type']=='Movie'].copy()\n",
    "df_movies.duration = df_movies.duration.str.replace(' min','').astype(int)\n",
    "\n",
    "# Histogram for distribution of minutes\n",
    "plt.figure(figsize=(8,4), dpi=120)\n",
    "sns.histplot(df_movies.duration)\n",
    "plt.xticks(np.arange(0,360,30))\n",
    "\n",
    "# Set Labels\n",
    "plt.title(\"Duration Distribution for Netflix Movies\")\n",
    "plt.ylabel(\"% of All Netflix Movies\", fontsize=9)\n",
    "plt.xlabel(\"Duration (minutes)\", fontsize=9)\n",
    "\n",
    "# Display Chart\n",
    "plt.show()"
   ]
  },
  {
   "cell_type": "markdown",
   "id": "fbdfffca",
   "metadata": {},
   "source": [
    "1. Why did you pick the specific chart? \n",
    "A histogram is a statistical graph that uses vertical bars to represent the frequency distribution of a dataset. The height of each bar represents the frequency or count of data points within that specific bin. Histograms help visualize the shape of the data distribution, whether it's symmetrical, skewed, or has multiple peaks.\n",
    "\n",
    "2. What is/are the insight(s) found from the chart?\n",
    "The duration of maximum movies on netflix is around 90 to 120 mins.\n",
    "\n",
    "3. Will the gained insights help creating a positive business impact?\n",
    "So, netflix has to try to keep only those movies on its platform which are around 90 to 120 mins to keep its viewership growing\n"
   ]
  },
  {
   "cell_type": "code",
   "execution_count": 75,
   "id": "068e318a",
   "metadata": {},
   "outputs": [
    {
     "data": {
      "image/png": "[encoded data removed]",
      "text/plain": [
       "<Figure size 1000x500 with 1 Axes>"
      ]
     },
     "metadata": {},
     "output_type": "display_data"
    }
   ],
   "source": [
    "# Top genres on netflix\n",
    "\n",
    "# Separating genres in listed_in column\n",
    "genres = df1.set_index('title').listed_in.str.split(', ', expand=True).stack().reset_index(level=1, drop=True);\n",
    "\n",
    "# Set Labels and Ploting Graph for Top 10 Genres\n",
    "plt.figure(figsize=(10,5))\n",
    "g = sns.countplot(y = genres, order=genres.value_counts().index[:10])\n",
    "plt.title('Top 10 Genres on Netflix')\n",
    "\n",
    "# Display Chart\n",
    "plt.show()"
   ]
  },
  {
   "cell_type": "markdown",
   "id": "e43a28f1",
   "metadata": {},
   "source": [
    "1. Why did you pick the specific chart?\n",
    "Bar charts are used to compare the size or frequency of different categories or groups of data. Bar charts are useful for comparing data across different categories.\n",
    "\n",
    "2. What is/are the insight(s) found from the chart?\n",
    "Leading the chart is International movies followed by dramas and comedies.\n",
    "\n",
    "3. Will the gained insights help creating a positive business impact?\n",
    "Even though U.S. leads in the content available on netflix, but international movies are in highest number. Netflix should add more niumber of international movies, dramas and comedies to increase its membership\n"
   ]
  },
  {
   "cell_type": "markdown",
   "id": "e4d42a3a",
   "metadata": {},
   "source": [
    "# Hypothesis Testing\n"
   ]
  },
  {
   "cell_type": "markdown",
   "id": "033543df",
   "metadata": {},
   "source": [
    "Hypothesis: The number of movies available on Netflix is greater than the number of TV shows available on Netflix.\n",
    "\n",
    "Null hypothesis: the mean number of movies is equal to mean number of tv shows\n",
    "Alternate hypothesis: the mean number of movies is not equal to mean number of tv shows\n",
    "\n",
    "We can perform two sample z test to accept or reject the null hpothesis\n"
   ]
  },
  {
   "cell_type": "code",
   "execution_count": 78,
   "id": "e3f323a0",
   "metadata": {},
   "outputs": [
    {
     "name": "stdout",
     "output_type": "stream",
     "text": [
      "Z-statistic: -2.6123614376889486\n",
      "P-value: 0.00899191341229054\n",
      "Reject the null hypothesis: There is a significant difference between the means of the two groups.\n"
     ]
    }
   ],
   "source": [
    "# Importing libraries to perform z test\n",
    "\n",
    "import numpy as np\n",
    "import statsmodels.api as sm\n",
    "from statsmodels.stats.weightstats import ztest\n",
    "\n",
    "## Count the number of movies and TV shows in the DataFrame\n",
    "n_movies = df1[df1['type'] == 'Movie'].count()['type']\n",
    "n_tv_shows = df1[df1['type'] == 'TV Show'].count()['type']\n",
    "\n",
    "counts = [n_movies, n_tv_shows]  # Number of movies and TV shows\n",
    "obs = [len(df1), len(df1)]  # Total number of observations in the DataFrame\n",
    "\n",
    "# Perform a two sample z-test and determine p value\n",
    "z_stat, p_val = ztest(counts, obs, value=0, alternative='two-sided')\n",
    "\n",
    "# Print results\n",
    "print(\"Z-statistic:\", z_stat)\n",
    "print(\"P-value:\", p_val)\n",
    "\n",
    "# Interpret the results\n",
    "alpha = 0.05\n",
    "if p_val < alpha:\n",
    "    print(\"Reject the null hypothesis: There is a significant difference between the means of the two groups.\")\n",
    "else:\n",
    "    print(\"Fail to reject the null hypothesis: There is no significant difference between the means of the two groups.\")\n"
   ]
  },
  {
   "cell_type": "markdown",
   "id": "4577682a",
   "metadata": {},
   "source": [
    "This implies that there is a significant difference in the number of movies and tv shows on netflix\n"
   ]
  },
  {
   "cell_type": "markdown",
   "id": "d02f9d44",
   "metadata": {},
   "source": [
    " # Solution to Business Objective\n",
    " \n",
    "The analysis revealed that Netflix has a greater number of movies than TV shows confirmed by two sample z test, with a rapidly growing collection of shows from the United States, so Netflix sholud keep on increasing it's movies which are of 90-120 mins duration.\n",
    "\n",
    "Netflix should keep its content more in USA, movies more in India and TV shows more in South Korea as these categories are popular\n",
    "\n",
    "International movies should be regularly added on the paltform followed by drama and comedy as they are the top 3 genres that most people like to watch\n",
    "\n",
    "Maximum content should be added in the months of December, October and January which are the months of maximum holidays as well as winter season when people prefer to stay at home and watch movies.\n",
    "\n",
    "Adult content with TV-MA rating is very popular especially the movies followed by movies intended for teenage audience. TV shows can be increased for little kids\n"
   ]
  },
  {
   "cell_type": "markdown",
   "id": "7ff67998",
   "metadata": {},
   "source": [
    "# Conclusion\n",
    "\n",
    "Exploring the dataset which consisted of 7787 records and 12 attributes, with a focus on missing value imputation and exploratory data analysis (EDA) to make the data analysis ready. Maximum movies were released in the year 2017 and 2018 while maximum TV shows were released in the year 2020 and 2019. The movies available on netflix are of 90 to 120 minutes duration.\n",
    "Since data is cleaned and is ready for applying machine learning models which can predict what kind of movies and tv shows will be watched by the audience and help grow the business of Netflix.\n",
    "\n"
   ]
  }
 ],
 "metadata": {
  "kernelspec": {
   "display_name": "Python 3 (ipykernel)",
   "language": "python",
   "name": "python3"
  },
  "language_info": {
   "codemirror_mode": {
    "name": "ipython",
    "version": 3
   },
   "file_extension": ".py",
   "mimetype": "text/x-python",
   "name": "python",
   "nbconvert_exporter": "python",
   "pygments_lexer": "ipython3",
   "version": "3.10.9"
  }
 },
 "nbformat": 4,
 "nbformat_minor": 5
}
